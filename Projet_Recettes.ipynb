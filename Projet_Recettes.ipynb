{
 "cells": [
  {
   "cell_type": "code",
   "execution_count": 4,
   "metadata": {},
   "outputs": [
    {
     "name": "stdout",
     "output_type": "stream",
     "text": [
      "hello\n"
     ]
    }
   ],
   "source": [
    "print(\"hello\")"
   ]
  },
  {
   "cell_type": "code",
   "execution_count": 5,
   "metadata": {},
   "outputs": [],
   "source": [
    "import numpy as np\n"
   ]
  },
  {
   "cell_type": "code",
   "execution_count": 6,
   "metadata": {},
   "outputs": [],
   "source": [
    "import pandas as pd"
   ]
  },
  {
   "cell_type": "code",
   "execution_count": 10,
   "metadata": {},
   "outputs": [],
   "source": [
    "import plotly as pl"
   ]
  },
  {
   "cell_type": "code",
   "execution_count": null,
   "metadata": {},
   "outputs": [],
   "source": []
  },
  {
   "attachments": {},
   "cell_type": "markdown",
   "metadata": {},
   "source": [
    "Importer les données"
   ]
  },
  {
   "cell_type": "code",
   "execution_count": 21,
   "metadata": {},
   "outputs": [
    {
     "ename": "ImportError",
     "evalue": "lxml not found, please install or use the etree parser.",
     "output_type": "error",
     "traceback": [
      "\u001b[1;31m---------------------------------------------------------------------------\u001b[0m",
      "\u001b[1;31mImportError\u001b[0m                               Traceback (most recent call last)",
      "Cell \u001b[1;32mIn[21], line 1\u001b[0m\n\u001b[1;32m----> 1\u001b[0m df\u001b[39m=\u001b[39mpd\u001b[39m.\u001b[39;49mread_xml(\u001b[39m\"\u001b[39;49m\u001b[39mAGRIBALYSE3.1_produits alimentaires_2.xlsm\u001b[39;49m\u001b[39m\"\u001b[39;49m)\n",
      "File \u001b[1;32mc:\\Users\\clair\\vscode\\venv\\lib\\site-packages\\pandas\\io\\xml.py:1118\u001b[0m, in \u001b[0;36mread_xml\u001b[1;34m(path_or_buffer, xpath, namespaces, elems_only, attrs_only, names, dtype, converters, parse_dates, encoding, parser, stylesheet, iterparse, compression, storage_options, dtype_backend)\u001b[0m\n\u001b[0;32m    880\u001b[0m \u001b[39m\u001b[39m\u001b[39mr\u001b[39m\u001b[39m\"\"\"\u001b[39;00m\n\u001b[0;32m    881\u001b[0m \u001b[39mRead XML document into a ``DataFrame`` object.\u001b[39;00m\n\u001b[0;32m    882\u001b[0m \n\u001b[1;32m   (...)\u001b[0m\n\u001b[0;32m   1114\u001b[0m \u001b[39m2  triangle      180    3.0\u001b[39;00m\n\u001b[0;32m   1115\u001b[0m \u001b[39m\"\"\"\u001b[39;00m\n\u001b[0;32m   1116\u001b[0m check_dtype_backend(dtype_backend)\n\u001b[1;32m-> 1118\u001b[0m \u001b[39mreturn\u001b[39;00m _parse(\n\u001b[0;32m   1119\u001b[0m     path_or_buffer\u001b[39m=\u001b[39;49mpath_or_buffer,\n\u001b[0;32m   1120\u001b[0m     xpath\u001b[39m=\u001b[39;49mxpath,\n\u001b[0;32m   1121\u001b[0m     namespaces\u001b[39m=\u001b[39;49mnamespaces,\n\u001b[0;32m   1122\u001b[0m     elems_only\u001b[39m=\u001b[39;49melems_only,\n\u001b[0;32m   1123\u001b[0m     attrs_only\u001b[39m=\u001b[39;49mattrs_only,\n\u001b[0;32m   1124\u001b[0m     names\u001b[39m=\u001b[39;49mnames,\n\u001b[0;32m   1125\u001b[0m     dtype\u001b[39m=\u001b[39;49mdtype,\n\u001b[0;32m   1126\u001b[0m     converters\u001b[39m=\u001b[39;49mconverters,\n\u001b[0;32m   1127\u001b[0m     parse_dates\u001b[39m=\u001b[39;49mparse_dates,\n\u001b[0;32m   1128\u001b[0m     encoding\u001b[39m=\u001b[39;49mencoding,\n\u001b[0;32m   1129\u001b[0m     parser\u001b[39m=\u001b[39;49mparser,\n\u001b[0;32m   1130\u001b[0m     stylesheet\u001b[39m=\u001b[39;49mstylesheet,\n\u001b[0;32m   1131\u001b[0m     iterparse\u001b[39m=\u001b[39;49miterparse,\n\u001b[0;32m   1132\u001b[0m     compression\u001b[39m=\u001b[39;49mcompression,\n\u001b[0;32m   1133\u001b[0m     storage_options\u001b[39m=\u001b[39;49mstorage_options,\n\u001b[0;32m   1134\u001b[0m     dtype_backend\u001b[39m=\u001b[39;49mdtype_backend,\n\u001b[0;32m   1135\u001b[0m )\n",
      "File \u001b[1;32mc:\\Users\\clair\\vscode\\venv\\lib\\site-packages\\pandas\\io\\xml.py:822\u001b[0m, in \u001b[0;36m_parse\u001b[1;34m(path_or_buffer, xpath, namespaces, elems_only, attrs_only, names, dtype, converters, parse_dates, encoding, parser, stylesheet, iterparse, compression, storage_options, dtype_backend, **kwargs)\u001b[0m\n\u001b[0;32m    805\u001b[0m         p \u001b[39m=\u001b[39m _LxmlFrameParser(\n\u001b[0;32m    806\u001b[0m             path_or_buffer,\n\u001b[0;32m    807\u001b[0m             xpath,\n\u001b[1;32m   (...)\u001b[0m\n\u001b[0;32m    819\u001b[0m             storage_options,\n\u001b[0;32m    820\u001b[0m         )\n\u001b[0;32m    821\u001b[0m     \u001b[39melse\u001b[39;00m:\n\u001b[1;32m--> 822\u001b[0m         \u001b[39mraise\u001b[39;00m \u001b[39mImportError\u001b[39;00m(\u001b[39m\"\u001b[39m\u001b[39mlxml not found, please install or use the etree parser.\u001b[39m\u001b[39m\"\u001b[39m)\n\u001b[0;32m    824\u001b[0m \u001b[39melif\u001b[39;00m parser \u001b[39m==\u001b[39m \u001b[39m\"\u001b[39m\u001b[39metree\u001b[39m\u001b[39m\"\u001b[39m:\n\u001b[0;32m    825\u001b[0m     p \u001b[39m=\u001b[39m _EtreeFrameParser(\n\u001b[0;32m    826\u001b[0m         path_or_buffer,\n\u001b[0;32m    827\u001b[0m         xpath,\n\u001b[1;32m   (...)\u001b[0m\n\u001b[0;32m    839\u001b[0m         storage_options,\n\u001b[0;32m    840\u001b[0m     )\n",
      "\u001b[1;31mImportError\u001b[0m: lxml not found, please install or use the etree parser."
     ]
    }
   ],
   "source": [
    "df=pd.read_xml(\"AGRIBALYSE3.1_produits alimentaires_2.xlsm\")"
   ]
  },
  {
   "attachments": {},
   "cell_type": "markdown",
   "metadata": {},
   "source": []
  },
  {
   "cell_type": "code",
   "execution_count": null,
   "metadata": {},
   "outputs": [],
   "source": []
  }
 ],
 "metadata": {
  "kernelspec": {
   "display_name": "venv",
   "language": "python",
   "name": "python3"
  },
  "language_info": {
   "codemirror_mode": {
    "name": "ipython",
    "version": 3
   },
   "file_extension": ".py",
   "mimetype": "text/x-python",
   "name": "python",
   "nbconvert_exporter": "python",
   "pygments_lexer": "ipython3",
   "version": "3.10.11"
  },
  "orig_nbformat": 4
 },
 "nbformat": 4,
 "nbformat_minor": 2
}
